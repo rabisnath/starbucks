{
 "cells": [
  {
   "cell_type": "code",
   "execution_count": 3,
   "source": [
    "from binance.client import Client\n",
    "import pandas as pd\n",
    "import numpy as np\n",
    "import matplotlib.pyplot as plt"
   ],
   "outputs": [],
   "metadata": {}
  },
  {
   "cell_type": "code",
   "execution_count": 4,
   "source": [
    "import os\n",
    "api_key = os.environ.get('binance_key')\n",
    "api_secret = os.environ.get('binance_secret')"
   ],
   "outputs": [],
   "metadata": {}
  },
  {
   "cell_type": "code",
   "execution_count": 5,
   "source": [
    "client = Client(api_key, api_secret)"
   ],
   "outputs": [],
   "metadata": {}
  },
  {
   "cell_type": "code",
   "execution_count": 18,
   "source": [
    "# hyperparams\n",
    "N = 60 # number of coins\n",
    "M = 60 # number of time intervals to get data for\n",
    "X = 20 # the number of principle components to use"
   ],
   "outputs": [],
   "metadata": {}
  },
  {
   "cell_type": "markdown",
   "source": [
    "#### In this notebook I follow the approach described by Avellaneda and Lee (2010) "
   ],
   "metadata": {}
  },
  {
   "cell_type": "markdown",
   "source": [
    "## Part One: Getting and Cleaning Data"
   ],
   "metadata": {}
  },
  {
   "cell_type": "code",
   "execution_count": 7,
   "source": [
    "# grabbing data for the N highest volume coins that are priced in USD\n",
    "\n",
    "info = client.get_all_tickers()\n",
    "all_symbols = [d['symbol'] for d in info]\n",
    "priced_in_btc = [s for s in all_symbols if 'BTC' in s]\n",
    "\n",
    "#[s for s in all_symbols if ('USD' in s and (not 'USDT' in s) and (not 'USDC' in s))]\n",
    "\n",
    "tickers = client.get_orderbook_tickers()\n",
    "tickers = pd.DataFrame.from_dict(tickers)\n",
    "col_types = {\n",
    "    'symbol': 'str',\n",
    "    'bidPrice': 'float',\n",
    "    'bidQty': 'float',\n",
    "    'askPrice': 'float',\n",
    "    'askQty': 'float',\n",
    "}\n",
    "tickers = tickers.astype(col_types)\n",
    "tickers['totalQty'] = tickers['bidQty'] + tickers['askQty']\n",
    "\n",
    "high_volume_coins = tickers[tickers['symbol'].isin(priced_in_btc)].nlargest(N, 'totalQty')\n",
    "symbols = high_volume_coins['symbol'].values\n",
    "\n",
    "\n",
    "\n",
    "high_volume_coins[:10]"
   ],
   "outputs": [
    {
     "output_type": "execute_result",
     "data": {
      "text/plain": [
       "       symbol      bidPrice      bidQty      askPrice      askQty    totalQty\n",
       "1232  REEFBTC  5.100000e-07  10652679.0  5.200000e-07  27319355.0  37972034.0\n",
       "1261   CKBBTC  3.000000e-07  12030965.0  3.100000e-07  23435113.0  35466078.0\n",
       "519    PHBBTC  2.000000e-07  17985471.0  2.100000e-07  16914813.0  34900284.0\n",
       "357     SCBTC  4.300000e-07   7626960.0  4.400000e-07  26245857.0  33872817.0\n",
       "243   IOSTBTC  8.900000e-07  13939867.0  9.000000e-07   7052536.0  20992403.0\n",
       "46     XVGBTC  5.700000e-07  10243697.0  5.800000e-07   3917627.0  14161324.0\n",
       "181    CNDBTC  3.600000e-07   7748316.0  3.700000e-07   1987154.0   9735470.0\n",
       "815   STMXBTC  6.800000e-07   6693190.0  6.900000e-07   1953377.0   8646567.0\n",
       "340    QKCBTC  4.400000e-07   5820202.0  4.500000e-07   2437617.0   8257819.0\n",
       "37     FUNBTC  6.500000e-07   5482240.0  6.600000e-07   2056476.0   7538716.0"
      ],
      "text/html": [
       "<div>\n",
       "<style scoped>\n",
       "    .dataframe tbody tr th:only-of-type {\n",
       "        vertical-align: middle;\n",
       "    }\n",
       "\n",
       "    .dataframe tbody tr th {\n",
       "        vertical-align: top;\n",
       "    }\n",
       "\n",
       "    .dataframe thead th {\n",
       "        text-align: right;\n",
       "    }\n",
       "</style>\n",
       "<table border=\"1\" class=\"dataframe\">\n",
       "  <thead>\n",
       "    <tr style=\"text-align: right;\">\n",
       "      <th></th>\n",
       "      <th>symbol</th>\n",
       "      <th>bidPrice</th>\n",
       "      <th>bidQty</th>\n",
       "      <th>askPrice</th>\n",
       "      <th>askQty</th>\n",
       "      <th>totalQty</th>\n",
       "    </tr>\n",
       "  </thead>\n",
       "  <tbody>\n",
       "    <tr>\n",
       "      <th>1232</th>\n",
       "      <td>REEFBTC</td>\n",
       "      <td>5.100000e-07</td>\n",
       "      <td>10652679.0</td>\n",
       "      <td>5.200000e-07</td>\n",
       "      <td>27319355.0</td>\n",
       "      <td>37972034.0</td>\n",
       "    </tr>\n",
       "    <tr>\n",
       "      <th>1261</th>\n",
       "      <td>CKBBTC</td>\n",
       "      <td>3.000000e-07</td>\n",
       "      <td>12030965.0</td>\n",
       "      <td>3.100000e-07</td>\n",
       "      <td>23435113.0</td>\n",
       "      <td>35466078.0</td>\n",
       "    </tr>\n",
       "    <tr>\n",
       "      <th>519</th>\n",
       "      <td>PHBBTC</td>\n",
       "      <td>2.000000e-07</td>\n",
       "      <td>17985471.0</td>\n",
       "      <td>2.100000e-07</td>\n",
       "      <td>16914813.0</td>\n",
       "      <td>34900284.0</td>\n",
       "    </tr>\n",
       "    <tr>\n",
       "      <th>357</th>\n",
       "      <td>SCBTC</td>\n",
       "      <td>4.300000e-07</td>\n",
       "      <td>7626960.0</td>\n",
       "      <td>4.400000e-07</td>\n",
       "      <td>26245857.0</td>\n",
       "      <td>33872817.0</td>\n",
       "    </tr>\n",
       "    <tr>\n",
       "      <th>243</th>\n",
       "      <td>IOSTBTC</td>\n",
       "      <td>8.900000e-07</td>\n",
       "      <td>13939867.0</td>\n",
       "      <td>9.000000e-07</td>\n",
       "      <td>7052536.0</td>\n",
       "      <td>20992403.0</td>\n",
       "    </tr>\n",
       "    <tr>\n",
       "      <th>46</th>\n",
       "      <td>XVGBTC</td>\n",
       "      <td>5.700000e-07</td>\n",
       "      <td>10243697.0</td>\n",
       "      <td>5.800000e-07</td>\n",
       "      <td>3917627.0</td>\n",
       "      <td>14161324.0</td>\n",
       "    </tr>\n",
       "    <tr>\n",
       "      <th>181</th>\n",
       "      <td>CNDBTC</td>\n",
       "      <td>3.600000e-07</td>\n",
       "      <td>7748316.0</td>\n",
       "      <td>3.700000e-07</td>\n",
       "      <td>1987154.0</td>\n",
       "      <td>9735470.0</td>\n",
       "    </tr>\n",
       "    <tr>\n",
       "      <th>815</th>\n",
       "      <td>STMXBTC</td>\n",
       "      <td>6.800000e-07</td>\n",
       "      <td>6693190.0</td>\n",
       "      <td>6.900000e-07</td>\n",
       "      <td>1953377.0</td>\n",
       "      <td>8646567.0</td>\n",
       "    </tr>\n",
       "    <tr>\n",
       "      <th>340</th>\n",
       "      <td>QKCBTC</td>\n",
       "      <td>4.400000e-07</td>\n",
       "      <td>5820202.0</td>\n",
       "      <td>4.500000e-07</td>\n",
       "      <td>2437617.0</td>\n",
       "      <td>8257819.0</td>\n",
       "    </tr>\n",
       "    <tr>\n",
       "      <th>37</th>\n",
       "      <td>FUNBTC</td>\n",
       "      <td>6.500000e-07</td>\n",
       "      <td>5482240.0</td>\n",
       "      <td>6.600000e-07</td>\n",
       "      <td>2056476.0</td>\n",
       "      <td>7538716.0</td>\n",
       "    </tr>\n",
       "  </tbody>\n",
       "</table>\n",
       "</div>"
      ]
     },
     "metadata": {},
     "execution_count": 7
    }
   ],
   "metadata": {}
  },
  {
   "cell_type": "code",
   "execution_count": 8,
   "source": [
    "# Constructing a data frame with close price data and volume for each of the N stocks going back M days\n",
    "'''\n",
    "# example: fetch 1 minute klines for the last day up until now\n",
    "klines = client.get_historical_klines(\"BNBBTC\", Client.KLINE_INTERVAL_1MINUTE, \"1 day ago UTC\")\n",
    "\n",
    "the 'klines' you get from the api are in the format\n",
    "\n",
    "Open time,\n",
    "Open - High - Low - Close - Volume,\n",
    "Close time,\n",
    "quote asset volume,\n",
    "number of trades,\n",
    "'taker_base_asset_vol', 'taker_quote_asset_vol', 'ignore'\n",
    "\n",
    "\n",
    "make sure to cast everything to floats\n",
    "\n",
    "'''\n",
    "\n",
    "#klines = client.get_historical_klines(high_volume_coins['symbol'].values[0], Client.KLINE_INTERVAL_1DAY, \"{} days ago UTC\".format(M))\n",
    "\n",
    "\n",
    "price_histories = {}\n",
    "for s in high_volume_coins['symbol'].values:\n",
    "    klines = client.get_historical_klines(s, Client.KLINE_INTERVAL_1DAY, \"{} days ago UTC\".format(M+1))\n",
    "    klines = [(lambda l: [float(x) for x in l])(candle) for candle in klines]\n",
    "    #print(klines)\n",
    "    history = pd.DataFrame(klines, columns=['open_time', 'open', 'high', 'low', 'close', 'volume', 'close_time', 'quote_asset_volume', 'num_trades', 'taker_base_asset_vol', 'taker_quote_asset_vol', 'ignore'])\n",
    "    price_histories[s] = history\n",
    "\n",
    "    \n",
    "for symbol, df in price_histories.items():\n",
    "    df['symbol'] = [symbol for i in range(len(df.index))]\n",
    "    df['t'] = [i for i in range(len(df.index))]\n",
    "    \n",
    "price_histories[symbols[0]].head()"
   ],
   "outputs": [
    {
     "output_type": "execute_result",
     "data": {
      "text/plain": [
       "      open_time          open          high           low         close  \\\n",
       "0  1.625011e+12  4.500000e-07  4.700000e-07  4.300000e-07  4.500000e-07   \n",
       "1  1.625098e+12  4.500000e-07  4.600000e-07  4.400000e-07  4.500000e-07   \n",
       "2  1.625184e+12  4.400000e-07  4.500000e-07  4.300000e-07  4.400000e-07   \n",
       "3  1.625270e+12  4.400000e-07  4.500000e-07  4.300000e-07  4.400000e-07   \n",
       "4  1.625357e+12  4.400000e-07  4.600000e-07  4.200000e-07  4.500000e-07   \n",
       "\n",
       "        volume    close_time  quote_asset_volume  num_trades  \\\n",
       "0   78998606.0  1.625098e+12           35.300454      1979.0   \n",
       "1   77492560.0  1.625184e+12           34.832702      1556.0   \n",
       "2   51518888.0  1.625270e+12           22.653114      1257.0   \n",
       "3   38042716.0  1.625357e+12           16.739471       998.0   \n",
       "4  174856477.0  1.625443e+12           78.009516      2130.0   \n",
       "\n",
       "   taker_base_asset_vol  taker_quote_asset_vol  ignore   symbol  t  \n",
       "0            44277603.0              19.816172     0.0  REEFBTC  0  \n",
       "1            34338195.0              15.483719     0.0  REEFBTC  1  \n",
       "2            20670855.0               9.118773     0.0  REEFBTC  2  \n",
       "3            15967058.0               7.039620     0.0  REEFBTC  3  \n",
       "4           103427399.0              46.302458     0.0  REEFBTC  4  "
      ],
      "text/html": [
       "<div>\n",
       "<style scoped>\n",
       "    .dataframe tbody tr th:only-of-type {\n",
       "        vertical-align: middle;\n",
       "    }\n",
       "\n",
       "    .dataframe tbody tr th {\n",
       "        vertical-align: top;\n",
       "    }\n",
       "\n",
       "    .dataframe thead th {\n",
       "        text-align: right;\n",
       "    }\n",
       "</style>\n",
       "<table border=\"1\" class=\"dataframe\">\n",
       "  <thead>\n",
       "    <tr style=\"text-align: right;\">\n",
       "      <th></th>\n",
       "      <th>open_time</th>\n",
       "      <th>open</th>\n",
       "      <th>high</th>\n",
       "      <th>low</th>\n",
       "      <th>close</th>\n",
       "      <th>volume</th>\n",
       "      <th>close_time</th>\n",
       "      <th>quote_asset_volume</th>\n",
       "      <th>num_trades</th>\n",
       "      <th>taker_base_asset_vol</th>\n",
       "      <th>taker_quote_asset_vol</th>\n",
       "      <th>ignore</th>\n",
       "      <th>symbol</th>\n",
       "      <th>t</th>\n",
       "    </tr>\n",
       "  </thead>\n",
       "  <tbody>\n",
       "    <tr>\n",
       "      <th>0</th>\n",
       "      <td>1.625011e+12</td>\n",
       "      <td>4.500000e-07</td>\n",
       "      <td>4.700000e-07</td>\n",
       "      <td>4.300000e-07</td>\n",
       "      <td>4.500000e-07</td>\n",
       "      <td>78998606.0</td>\n",
       "      <td>1.625098e+12</td>\n",
       "      <td>35.300454</td>\n",
       "      <td>1979.0</td>\n",
       "      <td>44277603.0</td>\n",
       "      <td>19.816172</td>\n",
       "      <td>0.0</td>\n",
       "      <td>REEFBTC</td>\n",
       "      <td>0</td>\n",
       "    </tr>\n",
       "    <tr>\n",
       "      <th>1</th>\n",
       "      <td>1.625098e+12</td>\n",
       "      <td>4.500000e-07</td>\n",
       "      <td>4.600000e-07</td>\n",
       "      <td>4.400000e-07</td>\n",
       "      <td>4.500000e-07</td>\n",
       "      <td>77492560.0</td>\n",
       "      <td>1.625184e+12</td>\n",
       "      <td>34.832702</td>\n",
       "      <td>1556.0</td>\n",
       "      <td>34338195.0</td>\n",
       "      <td>15.483719</td>\n",
       "      <td>0.0</td>\n",
       "      <td>REEFBTC</td>\n",
       "      <td>1</td>\n",
       "    </tr>\n",
       "    <tr>\n",
       "      <th>2</th>\n",
       "      <td>1.625184e+12</td>\n",
       "      <td>4.400000e-07</td>\n",
       "      <td>4.500000e-07</td>\n",
       "      <td>4.300000e-07</td>\n",
       "      <td>4.400000e-07</td>\n",
       "      <td>51518888.0</td>\n",
       "      <td>1.625270e+12</td>\n",
       "      <td>22.653114</td>\n",
       "      <td>1257.0</td>\n",
       "      <td>20670855.0</td>\n",
       "      <td>9.118773</td>\n",
       "      <td>0.0</td>\n",
       "      <td>REEFBTC</td>\n",
       "      <td>2</td>\n",
       "    </tr>\n",
       "    <tr>\n",
       "      <th>3</th>\n",
       "      <td>1.625270e+12</td>\n",
       "      <td>4.400000e-07</td>\n",
       "      <td>4.500000e-07</td>\n",
       "      <td>4.300000e-07</td>\n",
       "      <td>4.400000e-07</td>\n",
       "      <td>38042716.0</td>\n",
       "      <td>1.625357e+12</td>\n",
       "      <td>16.739471</td>\n",
       "      <td>998.0</td>\n",
       "      <td>15967058.0</td>\n",
       "      <td>7.039620</td>\n",
       "      <td>0.0</td>\n",
       "      <td>REEFBTC</td>\n",
       "      <td>3</td>\n",
       "    </tr>\n",
       "    <tr>\n",
       "      <th>4</th>\n",
       "      <td>1.625357e+12</td>\n",
       "      <td>4.400000e-07</td>\n",
       "      <td>4.600000e-07</td>\n",
       "      <td>4.200000e-07</td>\n",
       "      <td>4.500000e-07</td>\n",
       "      <td>174856477.0</td>\n",
       "      <td>1.625443e+12</td>\n",
       "      <td>78.009516</td>\n",
       "      <td>2130.0</td>\n",
       "      <td>103427399.0</td>\n",
       "      <td>46.302458</td>\n",
       "      <td>0.0</td>\n",
       "      <td>REEFBTC</td>\n",
       "      <td>4</td>\n",
       "    </tr>\n",
       "  </tbody>\n",
       "</table>\n",
       "</div>"
      ]
     },
     "metadata": {},
     "execution_count": 8
    }
   ],
   "metadata": {}
  },
  {
   "cell_type": "code",
   "execution_count": 9,
   "source": [
    "len(symbols) == N"
   ],
   "outputs": [
    {
     "output_type": "execute_result",
     "data": {
      "text/plain": [
       "True"
      ]
     },
     "metadata": {},
     "execution_count": 9
    }
   ],
   "metadata": {}
  },
  {
   "cell_type": "code",
   "execution_count": 10,
   "source": [
    "for i in range(N):\n",
    "    print(i, len(price_histories[symbols[i]]))"
   ],
   "outputs": [
    {
     "output_type": "stream",
     "name": "stdout",
     "text": [
      "0 61\n",
      "1 61\n",
      "2 61\n",
      "3 61\n",
      "4 61\n",
      "5 61\n",
      "6 61\n",
      "7 61\n",
      "8 61\n",
      "9 61\n",
      "10 61\n",
      "11 61\n",
      "12 61\n",
      "13 61\n",
      "14 61\n",
      "15 61\n",
      "16 61\n",
      "17 61\n",
      "18 61\n",
      "19 61\n",
      "20 58\n",
      "21 61\n",
      "22 61\n",
      "23 61\n",
      "24 61\n",
      "25 61\n",
      "26 61\n",
      "27 61\n",
      "28 61\n",
      "29 61\n",
      "30 61\n",
      "31 61\n",
      "32 61\n",
      "33 61\n",
      "34 61\n",
      "35 61\n",
      "36 61\n",
      "37 61\n",
      "38 61\n",
      "39 61\n",
      "40 61\n",
      "41 61\n",
      "42 61\n",
      "43 61\n",
      "44 61\n",
      "45 61\n",
      "46 61\n",
      "47 61\n",
      "48 61\n",
      "49 61\n",
      "50 61\n",
      "51 61\n",
      "52 61\n",
      "53 61\n",
      "54 61\n",
      "55 61\n",
      "56 61\n",
      "57 61\n",
      "58 61\n",
      "59 61\n"
     ]
    }
   ],
   "metadata": {}
  },
  {
   "cell_type": "code",
   "execution_count": 11,
   "source": [
    "# need to remove coins from the universe that dont have M+1 days of data (also update N and M)\n",
    "# NB: this doesn't seem to be an issue for BTC pairs, just when I was looking at USD pairs"
   ],
   "outputs": [],
   "metadata": {}
  },
  {
   "cell_type": "code",
   "execution_count": 12,
   "source": [
    "# to do: write a function to make some nice graphs"
   ],
   "outputs": [],
   "metadata": {}
  },
  {
   "cell_type": "markdown",
   "source": [
    "## Part Two: Using PCA to find Risk Factors"
   ],
   "metadata": {}
  },
  {
   "cell_type": "code",
   "execution_count": 19,
   "source": [
    "print(N, M)"
   ],
   "outputs": [
    {
     "output_type": "stream",
     "name": "stdout",
     "text": [
      "60 60\n"
     ]
    }
   ],
   "metadata": {}
  },
  {
   "cell_type": "code",
   "execution_count": 29,
   "source": [
    "# need a matrix S_it with the price of the ith stock at time t\n",
    "\n",
    "S = np.ones([N, M+1])\n",
    "\n",
    "for i in range(N):\n",
    "    history = price_histories[symbols[i]]\n",
    "    column = history['close'].values\n",
    "    for j in range(M+1):\n",
    "        try:\n",
    "            S[i][j] = column[j]\n",
    "        except:\n",
    "            print(i, j)\n",
    "\n"
   ],
   "outputs": [
    {
     "output_type": "stream",
     "name": "stdout",
     "text": [
      "20 58\n",
      "20 59\n",
      "20 60\n"
     ]
    }
   ],
   "metadata": {}
  },
  {
   "cell_type": "code",
   "execution_count": null,
   "source": [
    "# Generating R, the matrix of returns\n",
    "# R_ik = return of ith stock at time t=k = (S_i_(t_0 - k-1) - S_i_(t_0 - k))/(S_i_(t_0 - k))\n",
    "\n",
    "def get_returns_from_prices(S, t_0):\n",
    "    R = np.ones([N, M])\n",
    "\n",
    "    for i in range(N):\n",
    "        for j in range(M):\n",
    "            new_price = S[i][t_0 - j - 1]\n",
    "            old_price = S[i][t_0 - j]\n",
    "            R[i][j] = (new_price - old_price) / old_price\n",
    "\n",
    "    return R\n",
    "        \n",
    "R = get_returns_from_prices(S, M)"
   ],
   "outputs": [],
   "metadata": {}
  },
  {
   "cell_type": "code",
   "execution_count": null,
   "source": [
    "# Standardizing the returns as done on page 6 in the paper\n",
    "\n",
    "R_bar = np.ones([N])\n",
    "\n",
    "for i in range(N):\n",
    "    R_bar[i] = np.mean(R[i])\n",
    "\n",
    "sigma_bar = np.ones([N])\n",
    "\n",
    "for i in range(N):\n",
    "    sigma_bar[i] = np.std(R[i])\n",
    "\n",
    "Y = np.ones([N, M])\n",
    "\n",
    "for i in range(N):\n",
    "    Y[i] = (R[i] - R_bar[i]) / sigma_bar[i]"
   ],
   "outputs": [],
   "metadata": {}
  },
  {
   "cell_type": "code",
   "execution_count": null,
   "source": [
    "# Computing the emperical correlation matrix\n",
    "\n",
    "#rho = np.ones([N, M])\n",
    "\n",
    "#for i in range(N):\n",
    "#    for j in range(M):\n",
    "#        rho[i][j] = np.dot(Y[i], Y[j]) / (M-1)"
   ],
   "outputs": [],
   "metadata": {}
  },
  {
   "cell_type": "code",
   "execution_count": null,
   "source": [
    "# Finding the SVD of the data matrix\n",
    "# S contains the singular values in descending order, columns of V (<-> rows of V transpose) are the right-singular vectors \n",
    "\n",
    "U, S, Vt = np.linalg.svd(Y, hermitian=True)\n",
    "V = np.transpose(Vt)\n",
    "\n",
    "#print('S:', S, 'V:', V)"
   ],
   "outputs": [],
   "metadata": {
    "scrolled": false
   }
  },
  {
   "cell_type": "code",
   "execution_count": null,
   "source": [
    "plt.bar(np.arange(1, len(S)+1, 1), S)"
   ],
   "outputs": [
    {
     "output_type": "execute_result",
     "data": {
      "text/plain": [
       "<BarContainer object of 60 artists>"
      ]
     },
     "metadata": {},
     "execution_count": 19
    },
    {
     "output_type": "display_data",
     "data": {
      "text/plain": [
       "<Figure size 432x288 with 1 Axes>"
      ],
      "image/svg+xml": "<?xml version=\"1.0\" encoding=\"utf-8\" standalone=\"no\"?>\n<!DOCTYPE svg PUBLIC \"-//W3C//DTD SVG 1.1//EN\"\n  \"http://www.w3.org/Graphics/SVG/1.1/DTD/svg11.dtd\">\n<svg height=\"248.518125pt\" version=\"1.1\" viewBox=\"0 0 368.925 248.518125\" width=\"368.925pt\" xmlns=\"http://www.w3.org/2000/svg\" xmlns:xlink=\"http://www.w3.org/1999/xlink\">\n <metadata>\n  <rdf:RDF xmlns:cc=\"http://creativecommons.org/ns#\" xmlns:dc=\"http://purl.org/dc/elements/1.1/\" xmlns:rdf=\"http://www.w3.org/1999/02/22-rdf-syntax-ns#\">\n   <cc:Work>\n    <dc:type rdf:resource=\"http://purl.org/dc/dcmitype/StillImage\"/>\n    <dc:date>2021-08-26T17:30:46.338118</dc:date>\n    <dc:format>image/svg+xml</dc:format>\n    <dc:creator>\n     <cc:Agent>\n      <dc:title>Matplotlib v3.4.3, https://matplotlib.org/</dc:title>\n     </cc:Agent>\n    </dc:creator>\n   </cc:Work>\n  </rdf:RDF>\n </metadata>\n <defs>\n  <style type=\"text/css\">*{stroke-linecap:butt;stroke-linejoin:round;}</style>\n </defs>\n <g id=\"figure_1\">\n  <g id=\"patch_1\">\n   <path d=\"M -0 248.518125 \nL 368.925 248.518125 \nL 368.925 0 \nL -0 0 \nz\n\" style=\"fill:none;\"/>\n  </g>\n  <g id=\"axes_1\">\n   <g id=\"patch_2\">\n    <path d=\"M 26.925 224.64 \nL 361.725 224.64 \nL 361.725 7.2 \nL 26.925 7.2 \nz\n\" style=\"fill:#ffffff;\"/>\n   </g>\n   <g id=\"patch_3\">\n    <path clip-path=\"url(#p07883a8157)\" d=\"M 42.143182 224.64 \nL 46.214936 224.64 \nL 46.214936 17.554286 \nL 42.143182 17.554286 \nz\n\" style=\"fill:#1f77b4;\"/>\n   </g>\n   <g id=\"patch_4\">\n    <path clip-path=\"url(#p07883a8157)\" d=\"M 47.232875 224.64 \nL 51.304629 224.64 \nL 51.304629 179.000028 \nL 47.232875 179.000028 \nz\n\" style=\"fill:#1f77b4;\"/>\n   </g>\n   <g id=\"patch_5\">\n    <path clip-path=\"url(#p07883a8157)\" d=\"M 52.322568 224.64 \nL 56.394322 224.64 \nL 56.394322 186.726578 \nL 52.322568 186.726578 \nz\n\" style=\"fill:#1f77b4;\"/>\n   </g>\n   <g id=\"patch_6\">\n    <path clip-path=\"url(#p07883a8157)\" d=\"M 57.412261 224.64 \nL 61.484015 224.64 \nL 61.484015 189.672811 \nL 57.412261 189.672811 \nz\n\" style=\"fill:#1f77b4;\"/>\n   </g>\n   <g id=\"patch_7\">\n    <path clip-path=\"url(#p07883a8157)\" d=\"M 62.501953 224.64 \nL 66.573708 224.64 \nL 66.573708 191.967407 \nL 62.501953 191.967407 \nz\n\" style=\"fill:#1f77b4;\"/>\n   </g>\n   <g id=\"patch_8\">\n    <path clip-path=\"url(#p07883a8157)\" d=\"M 67.591646 224.64 \nL 71.663401 224.64 \nL 71.663401 194.21964 \nL 67.591646 194.21964 \nz\n\" style=\"fill:#1f77b4;\"/>\n   </g>\n   <g id=\"patch_9\">\n    <path clip-path=\"url(#p07883a8157)\" d=\"M 72.681339 224.64 \nL 76.753094 224.64 \nL 76.753094 197.011448 \nL 72.681339 197.011448 \nz\n\" style=\"fill:#1f77b4;\"/>\n   </g>\n   <g id=\"patch_10\">\n    <path clip-path=\"url(#p07883a8157)\" d=\"M 77.771032 224.64 \nL 81.842787 224.64 \nL 81.842787 200.078088 \nL 77.771032 200.078088 \nz\n\" style=\"fill:#1f77b4;\"/>\n   </g>\n   <g id=\"patch_11\">\n    <path clip-path=\"url(#p07883a8157)\" d=\"M 82.860725 224.64 \nL 86.932479 224.64 \nL 86.932479 201.174161 \nL 82.860725 201.174161 \nz\n\" style=\"fill:#1f77b4;\"/>\n   </g>\n   <g id=\"patch_12\">\n    <path clip-path=\"url(#p07883a8157)\" d=\"M 87.950418 224.64 \nL 92.022172 224.64 \nL 92.022172 201.901111 \nL 87.950418 201.901111 \nz\n\" style=\"fill:#1f77b4;\"/>\n   </g>\n   <g id=\"patch_13\">\n    <path clip-path=\"url(#p07883a8157)\" d=\"M 93.040111 224.64 \nL 97.111865 224.64 \nL 97.111865 202.586473 \nL 93.040111 202.586473 \nz\n\" style=\"fill:#1f77b4;\"/>\n   </g>\n   <g id=\"patch_14\">\n    <path clip-path=\"url(#p07883a8157)\" d=\"M 98.129804 224.64 \nL 102.201558 224.64 \nL 102.201558 204.259236 \nL 98.129804 204.259236 \nz\n\" style=\"fill:#1f77b4;\"/>\n   </g>\n   <g id=\"patch_15\">\n    <path clip-path=\"url(#p07883a8157)\" d=\"M 103.219497 224.64 \nL 107.291251 224.64 \nL 107.291251 204.872996 \nL 103.219497 204.872996 \nz\n\" style=\"fill:#1f77b4;\"/>\n   </g>\n   <g id=\"patch_16\">\n    <path clip-path=\"url(#p07883a8157)\" d=\"M 108.30919 224.64 \nL 112.380944 224.64 \nL 112.380944 207.012355 \nL 108.30919 207.012355 \nz\n\" style=\"fill:#1f77b4;\"/>\n   </g>\n   <g id=\"patch_17\">\n    <path clip-path=\"url(#p07883a8157)\" d=\"M 113.398883 224.64 \nL 117.470637 224.64 \nL 117.470637 207.829134 \nL 113.398883 207.829134 \nz\n\" style=\"fill:#1f77b4;\"/>\n   </g>\n   <g id=\"patch_18\">\n    <path clip-path=\"url(#p07883a8157)\" d=\"M 118.488576 224.64 \nL 122.56033 224.64 \nL 122.56033 208.365866 \nL 118.488576 208.365866 \nz\n\" style=\"fill:#1f77b4;\"/>\n   </g>\n   <g id=\"patch_19\">\n    <path clip-path=\"url(#p07883a8157)\" d=\"M 123.578268 224.64 \nL 127.650023 224.64 \nL 127.650023 209.766891 \nL 123.578268 209.766891 \nz\n\" style=\"fill:#1f77b4;\"/>\n   </g>\n   <g id=\"patch_20\">\n    <path clip-path=\"url(#p07883a8157)\" d=\"M 128.667961 224.64 \nL 132.739716 224.64 \nL 132.739716 210.526442 \nL 128.667961 210.526442 \nz\n\" style=\"fill:#1f77b4;\"/>\n   </g>\n   <g id=\"patch_21\">\n    <path clip-path=\"url(#p07883a8157)\" d=\"M 133.757654 224.64 \nL 137.829409 224.64 \nL 137.829409 211.532339 \nL 133.757654 211.532339 \nz\n\" style=\"fill:#1f77b4;\"/>\n   </g>\n   <g id=\"patch_22\">\n    <path clip-path=\"url(#p07883a8157)\" d=\"M 138.847347 224.64 \nL 142.919102 224.64 \nL 142.919102 212.421289 \nL 138.847347 212.421289 \nz\n\" style=\"fill:#1f77b4;\"/>\n   </g>\n   <g id=\"patch_23\">\n    <path clip-path=\"url(#p07883a8157)\" d=\"M 143.93704 224.64 \nL 148.008794 224.64 \nL 148.008794 213.098325 \nL 143.93704 213.098325 \nz\n\" style=\"fill:#1f77b4;\"/>\n   </g>\n   <g id=\"patch_24\">\n    <path clip-path=\"url(#p07883a8157)\" d=\"M 149.026733 224.64 \nL 153.098487 224.64 \nL 153.098487 214.690843 \nL 149.026733 214.690843 \nz\n\" style=\"fill:#1f77b4;\"/>\n   </g>\n   <g id=\"patch_25\">\n    <path clip-path=\"url(#p07883a8157)\" d=\"M 154.116426 224.64 \nL 158.18818 224.64 \nL 158.18818 214.945267 \nL 154.116426 214.945267 \nz\n\" style=\"fill:#1f77b4;\"/>\n   </g>\n   <g id=\"patch_26\">\n    <path clip-path=\"url(#p07883a8157)\" d=\"M 159.206119 224.64 \nL 163.277873 224.64 \nL 163.277873 215.808545 \nL 159.206119 215.808545 \nz\n\" style=\"fill:#1f77b4;\"/>\n   </g>\n   <g id=\"patch_27\">\n    <path clip-path=\"url(#p07883a8157)\" d=\"M 164.295812 224.64 \nL 168.367566 224.64 \nL 168.367566 216.251225 \nL 164.295812 216.251225 \nz\n\" style=\"fill:#1f77b4;\"/>\n   </g>\n   <g id=\"patch_28\">\n    <path clip-path=\"url(#p07883a8157)\" d=\"M 169.385505 224.64 \nL 173.457259 224.64 \nL 173.457259 216.6544 \nL 169.385505 216.6544 \nz\n\" style=\"fill:#1f77b4;\"/>\n   </g>\n   <g id=\"patch_29\">\n    <path clip-path=\"url(#p07883a8157)\" d=\"M 174.475198 224.64 \nL 178.546952 224.64 \nL 178.546952 217.117729 \nL 174.475198 217.117729 \nz\n\" style=\"fill:#1f77b4;\"/>\n   </g>\n   <g id=\"patch_30\">\n    <path clip-path=\"url(#p07883a8157)\" d=\"M 179.564891 224.64 \nL 183.636645 224.64 \nL 183.636645 218.095381 \nL 179.564891 218.095381 \nz\n\" style=\"fill:#1f77b4;\"/>\n   </g>\n   <g id=\"patch_31\">\n    <path clip-path=\"url(#p07883a8157)\" d=\"M 184.654583 224.64 \nL 188.726338 224.64 \nL 188.726338 218.150028 \nL 184.654583 218.150028 \nz\n\" style=\"fill:#1f77b4;\"/>\n   </g>\n   <g id=\"patch_32\">\n    <path clip-path=\"url(#p07883a8157)\" d=\"M 189.744276 224.64 \nL 193.816031 224.64 \nL 193.816031 218.591935 \nL 189.744276 218.591935 \nz\n\" style=\"fill:#1f77b4;\"/>\n   </g>\n   <g id=\"patch_33\">\n    <path clip-path=\"url(#p07883a8157)\" d=\"M 194.833969 224.64 \nL 198.905724 224.64 \nL 198.905724 219.742383 \nL 194.833969 219.742383 \nz\n\" style=\"fill:#1f77b4;\"/>\n   </g>\n   <g id=\"patch_34\">\n    <path clip-path=\"url(#p07883a8157)\" d=\"M 199.923662 224.64 \nL 203.995417 224.64 \nL 203.995417 219.920555 \nL 199.923662 219.920555 \nz\n\" style=\"fill:#1f77b4;\"/>\n   </g>\n   <g id=\"patch_35\">\n    <path clip-path=\"url(#p07883a8157)\" d=\"M 205.013355 224.64 \nL 209.085109 224.64 \nL 209.085109 220.243082 \nL 205.013355 220.243082 \nz\n\" style=\"fill:#1f77b4;\"/>\n   </g>\n   <g id=\"patch_36\">\n    <path clip-path=\"url(#p07883a8157)\" d=\"M 210.103048 224.64 \nL 214.174802 224.64 \nL 214.174802 220.590189 \nL 210.103048 220.590189 \nz\n\" style=\"fill:#1f77b4;\"/>\n   </g>\n   <g id=\"patch_37\">\n    <path clip-path=\"url(#p07883a8157)\" d=\"M 215.192741 224.64 \nL 219.264495 224.64 \nL 219.264495 220.889233 \nL 215.192741 220.889233 \nz\n\" style=\"fill:#1f77b4;\"/>\n   </g>\n   <g id=\"patch_38\">\n    <path clip-path=\"url(#p07883a8157)\" d=\"M 220.282434 224.64 \nL 224.354188 224.64 \nL 224.354188 221.155664 \nL 220.282434 221.155664 \nz\n\" style=\"fill:#1f77b4;\"/>\n   </g>\n   <g id=\"patch_39\">\n    <path clip-path=\"url(#p07883a8157)\" d=\"M 225.372127 224.64 \nL 229.443881 224.64 \nL 229.443881 221.58903 \nL 225.372127 221.58903 \nz\n\" style=\"fill:#1f77b4;\"/>\n   </g>\n   <g id=\"patch_40\">\n    <path clip-path=\"url(#p07883a8157)\" d=\"M 230.46182 224.64 \nL 234.533574 224.64 \nL 234.533574 222.084388 \nL 230.46182 222.084388 \nz\n\" style=\"fill:#1f77b4;\"/>\n   </g>\n   <g id=\"patch_41\">\n    <path clip-path=\"url(#p07883a8157)\" d=\"M 235.551513 224.64 \nL 239.623267 224.64 \nL 239.623267 222.189685 \nL 235.551513 222.189685 \nz\n\" style=\"fill:#1f77b4;\"/>\n   </g>\n   <g id=\"patch_42\">\n    <path clip-path=\"url(#p07883a8157)\" d=\"M 240.641206 224.64 \nL 244.71296 224.64 \nL 244.71296 222.391611 \nL 240.641206 222.391611 \nz\n\" style=\"fill:#1f77b4;\"/>\n   </g>\n   <g id=\"patch_43\">\n    <path clip-path=\"url(#p07883a8157)\" d=\"M 245.730898 224.64 \nL 249.802653 224.64 \nL 249.802653 222.447469 \nL 245.730898 222.447469 \nz\n\" style=\"fill:#1f77b4;\"/>\n   </g>\n   <g id=\"patch_44\">\n    <path clip-path=\"url(#p07883a8157)\" d=\"M 250.820591 224.64 \nL 254.892346 224.64 \nL 254.892346 222.576236 \nL 250.820591 222.576236 \nz\n\" style=\"fill:#1f77b4;\"/>\n   </g>\n   <g id=\"patch_45\">\n    <path clip-path=\"url(#p07883a8157)\" d=\"M 255.910284 224.64 \nL 259.982039 224.64 \nL 259.982039 222.900355 \nL 255.910284 222.900355 \nz\n\" style=\"fill:#1f77b4;\"/>\n   </g>\n   <g id=\"patch_46\">\n    <path clip-path=\"url(#p07883a8157)\" d=\"M 260.999977 224.64 \nL 265.071732 224.64 \nL 265.071732 223.210471 \nL 260.999977 223.210471 \nz\n\" style=\"fill:#1f77b4;\"/>\n   </g>\n   <g id=\"patch_47\">\n    <path clip-path=\"url(#p07883a8157)\" d=\"M 266.08967 224.64 \nL 270.161424 224.64 \nL 270.161424 223.356669 \nL 266.08967 223.356669 \nz\n\" style=\"fill:#1f77b4;\"/>\n   </g>\n   <g id=\"patch_48\">\n    <path clip-path=\"url(#p07883a8157)\" d=\"M 271.179363 224.64 \nL 275.251117 224.64 \nL 275.251117 223.384636 \nL 271.179363 223.384636 \nz\n\" style=\"fill:#1f77b4;\"/>\n   </g>\n   <g id=\"patch_49\">\n    <path clip-path=\"url(#p07883a8157)\" d=\"M 276.269056 224.64 \nL 280.34081 224.64 \nL 280.34081 223.596312 \nL 276.269056 223.596312 \nz\n\" style=\"fill:#1f77b4;\"/>\n   </g>\n   <g id=\"patch_50\">\n    <path clip-path=\"url(#p07883a8157)\" d=\"M 281.358749 224.64 \nL 285.430503 224.64 \nL 285.430503 223.669526 \nL 281.358749 223.669526 \nz\n\" style=\"fill:#1f77b4;\"/>\n   </g>\n   <g id=\"patch_51\">\n    <path clip-path=\"url(#p07883a8157)\" d=\"M 286.448442 224.64 \nL 290.520196 224.64 \nL 290.520196 224.012788 \nL 286.448442 224.012788 \nz\n\" style=\"fill:#1f77b4;\"/>\n   </g>\n   <g id=\"patch_52\">\n    <path clip-path=\"url(#p07883a8157)\" d=\"M 291.538135 224.64 \nL 295.609889 224.64 \nL 295.609889 224.040157 \nL 291.538135 224.040157 \nz\n\" style=\"fill:#1f77b4;\"/>\n   </g>\n   <g id=\"patch_53\">\n    <path clip-path=\"url(#p07883a8157)\" d=\"M 296.627828 224.64 \nL 300.699582 224.64 \nL 300.699582 224.096619 \nL 296.627828 224.096619 \nz\n\" style=\"fill:#1f77b4;\"/>\n   </g>\n   <g id=\"patch_54\">\n    <path clip-path=\"url(#p07883a8157)\" d=\"M 301.717521 224.64 \nL 305.789275 224.64 \nL 305.789275 224.268671 \nL 301.717521 224.268671 \nz\n\" style=\"fill:#1f77b4;\"/>\n   </g>\n   <g id=\"patch_55\">\n    <path clip-path=\"url(#p07883a8157)\" d=\"M 306.807213 224.64 \nL 310.878968 224.64 \nL 310.878968 224.304099 \nL 306.807213 224.304099 \nz\n\" style=\"fill:#1f77b4;\"/>\n   </g>\n   <g id=\"patch_56\">\n    <path clip-path=\"url(#p07883a8157)\" d=\"M 311.896906 224.64 \nL 315.968661 224.64 \nL 315.968661 224.394474 \nL 311.896906 224.394474 \nz\n\" style=\"fill:#1f77b4;\"/>\n   </g>\n   <g id=\"patch_57\">\n    <path clip-path=\"url(#p07883a8157)\" d=\"M 316.986599 224.64 \nL 321.058354 224.64 \nL 321.058354 224.502934 \nL 316.986599 224.502934 \nz\n\" style=\"fill:#1f77b4;\"/>\n   </g>\n   <g id=\"patch_58\">\n    <path clip-path=\"url(#p07883a8157)\" d=\"M 322.076292 224.64 \nL 326.148047 224.64 \nL 326.148047 224.559762 \nL 322.076292 224.559762 \nz\n\" style=\"fill:#1f77b4;\"/>\n   </g>\n   <g id=\"patch_59\">\n    <path clip-path=\"url(#p07883a8157)\" d=\"M 327.165985 224.64 \nL 331.237739 224.64 \nL 331.237739 224.610519 \nL 327.165985 224.610519 \nz\n\" style=\"fill:#1f77b4;\"/>\n   </g>\n   <g id=\"patch_60\">\n    <path clip-path=\"url(#p07883a8157)\" d=\"M 332.255678 224.64 \nL 336.327432 224.64 \nL 336.327432 224.625491 \nL 332.255678 224.625491 \nz\n\" style=\"fill:#1f77b4;\"/>\n   </g>\n   <g id=\"patch_61\">\n    <path clip-path=\"url(#p07883a8157)\" d=\"M 337.345371 224.64 \nL 341.417125 224.64 \nL 341.417125 224.635189 \nL 337.345371 224.635189 \nz\n\" style=\"fill:#1f77b4;\"/>\n   </g>\n   <g id=\"patch_62\">\n    <path clip-path=\"url(#p07883a8157)\" d=\"M 342.435064 224.64 \nL 346.506818 224.64 \nL 346.506818 224.64 \nL 342.435064 224.64 \nz\n\" style=\"fill:#1f77b4;\"/>\n   </g>\n   <g id=\"matplotlib.axis_1\">\n    <g id=\"xtick_1\">\n     <g id=\"line2d_1\">\n      <defs>\n       <path d=\"M 0 0 \nL 0 3.5 \n\" id=\"m5afee87706\" style=\"stroke:#000000;stroke-width:0.8;\"/>\n      </defs>\n      <g>\n       <use style=\"stroke:#000000;stroke-width:0.8;\" x=\"39.089366\" xlink:href=\"#m5afee87706\" y=\"224.64\"/>\n      </g>\n     </g>\n     <g id=\"text_1\">\n      <!-- 0 -->\n      <g transform=\"translate(35.908116 239.238437)scale(0.1 -0.1)\">\n       <defs>\n        <path d=\"M 2034 4250 \nQ 1547 4250 1301 3770 \nQ 1056 3291 1056 2328 \nQ 1056 1369 1301 889 \nQ 1547 409 2034 409 \nQ 2525 409 2770 889 \nQ 3016 1369 3016 2328 \nQ 3016 3291 2770 3770 \nQ 2525 4250 2034 4250 \nz\nM 2034 4750 \nQ 2819 4750 3233 4129 \nQ 3647 3509 3647 2328 \nQ 3647 1150 3233 529 \nQ 2819 -91 2034 -91 \nQ 1250 -91 836 529 \nQ 422 1150 422 2328 \nQ 422 3509 836 4129 \nQ 1250 4750 2034 4750 \nz\n\" id=\"DejaVuSans-30\" transform=\"scale(0.015625)\"/>\n       </defs>\n       <use xlink:href=\"#DejaVuSans-30\"/>\n      </g>\n     </g>\n    </g>\n    <g id=\"xtick_2\">\n     <g id=\"line2d_2\">\n      <g>\n       <use style=\"stroke:#000000;stroke-width:0.8;\" x=\"89.986295\" xlink:href=\"#m5afee87706\" y=\"224.64\"/>\n      </g>\n     </g>\n     <g id=\"text_2\">\n      <!-- 10 -->\n      <g transform=\"translate(83.623795 239.238437)scale(0.1 -0.1)\">\n       <defs>\n        <path d=\"M 794 531 \nL 1825 531 \nL 1825 4091 \nL 703 3866 \nL 703 4441 \nL 1819 4666 \nL 2450 4666 \nL 2450 531 \nL 3481 531 \nL 3481 0 \nL 794 0 \nL 794 531 \nz\n\" id=\"DejaVuSans-31\" transform=\"scale(0.015625)\"/>\n       </defs>\n       <use xlink:href=\"#DejaVuSans-31\"/>\n       <use x=\"63.623047\" xlink:href=\"#DejaVuSans-30\"/>\n      </g>\n     </g>\n    </g>\n    <g id=\"xtick_3\">\n     <g id=\"line2d_3\">\n      <g>\n       <use style=\"stroke:#000000;stroke-width:0.8;\" x=\"140.883224\" xlink:href=\"#m5afee87706\" y=\"224.64\"/>\n      </g>\n     </g>\n     <g id=\"text_3\">\n      <!-- 20 -->\n      <g transform=\"translate(134.520724 239.238437)scale(0.1 -0.1)\">\n       <defs>\n        <path d=\"M 1228 531 \nL 3431 531 \nL 3431 0 \nL 469 0 \nL 469 531 \nQ 828 903 1448 1529 \nQ 2069 2156 2228 2338 \nQ 2531 2678 2651 2914 \nQ 2772 3150 2772 3378 \nQ 2772 3750 2511 3984 \nQ 2250 4219 1831 4219 \nQ 1534 4219 1204 4116 \nQ 875 4013 500 3803 \nL 500 4441 \nQ 881 4594 1212 4672 \nQ 1544 4750 1819 4750 \nQ 2544 4750 2975 4387 \nQ 3406 4025 3406 3419 \nQ 3406 3131 3298 2873 \nQ 3191 2616 2906 2266 \nQ 2828 2175 2409 1742 \nQ 1991 1309 1228 531 \nz\n\" id=\"DejaVuSans-32\" transform=\"scale(0.015625)\"/>\n       </defs>\n       <use xlink:href=\"#DejaVuSans-32\"/>\n       <use x=\"63.623047\" xlink:href=\"#DejaVuSans-30\"/>\n      </g>\n     </g>\n    </g>\n    <g id=\"xtick_4\">\n     <g id=\"line2d_4\">\n      <g>\n       <use style=\"stroke:#000000;stroke-width:0.8;\" x=\"191.780154\" xlink:href=\"#m5afee87706\" y=\"224.64\"/>\n      </g>\n     </g>\n     <g id=\"text_4\">\n      <!-- 30 -->\n      <g transform=\"translate(185.417654 239.238437)scale(0.1 -0.1)\">\n       <defs>\n        <path d=\"M 2597 2516 \nQ 3050 2419 3304 2112 \nQ 3559 1806 3559 1356 \nQ 3559 666 3084 287 \nQ 2609 -91 1734 -91 \nQ 1441 -91 1130 -33 \nQ 819 25 488 141 \nL 488 750 \nQ 750 597 1062 519 \nQ 1375 441 1716 441 \nQ 2309 441 2620 675 \nQ 2931 909 2931 1356 \nQ 2931 1769 2642 2001 \nQ 2353 2234 1838 2234 \nL 1294 2234 \nL 1294 2753 \nL 1863 2753 \nQ 2328 2753 2575 2939 \nQ 2822 3125 2822 3475 \nQ 2822 3834 2567 4026 \nQ 2313 4219 1838 4219 \nQ 1578 4219 1281 4162 \nQ 984 4106 628 3988 \nL 628 4550 \nQ 988 4650 1302 4700 \nQ 1616 4750 1894 4750 \nQ 2613 4750 3031 4423 \nQ 3450 4097 3450 3541 \nQ 3450 3153 3228 2886 \nQ 3006 2619 2597 2516 \nz\n\" id=\"DejaVuSans-33\" transform=\"scale(0.015625)\"/>\n       </defs>\n       <use xlink:href=\"#DejaVuSans-33\"/>\n       <use x=\"63.623047\" xlink:href=\"#DejaVuSans-30\"/>\n      </g>\n     </g>\n    </g>\n    <g id=\"xtick_5\">\n     <g id=\"line2d_5\">\n      <g>\n       <use style=\"stroke:#000000;stroke-width:0.8;\" x=\"242.677083\" xlink:href=\"#m5afee87706\" y=\"224.64\"/>\n      </g>\n     </g>\n     <g id=\"text_5\">\n      <!-- 40 -->\n      <g transform=\"translate(236.314583 239.238437)scale(0.1 -0.1)\">\n       <defs>\n        <path d=\"M 2419 4116 \nL 825 1625 \nL 2419 1625 \nL 2419 4116 \nz\nM 2253 4666 \nL 3047 4666 \nL 3047 1625 \nL 3713 1625 \nL 3713 1100 \nL 3047 1100 \nL 3047 0 \nL 2419 0 \nL 2419 1100 \nL 313 1100 \nL 313 1709 \nL 2253 4666 \nz\n\" id=\"DejaVuSans-34\" transform=\"scale(0.015625)\"/>\n       </defs>\n       <use xlink:href=\"#DejaVuSans-34\"/>\n       <use x=\"63.623047\" xlink:href=\"#DejaVuSans-30\"/>\n      </g>\n     </g>\n    </g>\n    <g id=\"xtick_6\">\n     <g id=\"line2d_6\">\n      <g>\n       <use style=\"stroke:#000000;stroke-width:0.8;\" x=\"293.574012\" xlink:href=\"#m5afee87706\" y=\"224.64\"/>\n      </g>\n     </g>\n     <g id=\"text_6\">\n      <!-- 50 -->\n      <g transform=\"translate(287.211512 239.238437)scale(0.1 -0.1)\">\n       <defs>\n        <path d=\"M 691 4666 \nL 3169 4666 \nL 3169 4134 \nL 1269 4134 \nL 1269 2991 \nQ 1406 3038 1543 3061 \nQ 1681 3084 1819 3084 \nQ 2600 3084 3056 2656 \nQ 3513 2228 3513 1497 \nQ 3513 744 3044 326 \nQ 2575 -91 1722 -91 \nQ 1428 -91 1123 -41 \nQ 819 9 494 109 \nL 494 744 \nQ 775 591 1075 516 \nQ 1375 441 1709 441 \nQ 2250 441 2565 725 \nQ 2881 1009 2881 1497 \nQ 2881 1984 2565 2268 \nQ 2250 2553 1709 2553 \nQ 1456 2553 1204 2497 \nQ 953 2441 691 2322 \nL 691 4666 \nz\n\" id=\"DejaVuSans-35\" transform=\"scale(0.015625)\"/>\n       </defs>\n       <use xlink:href=\"#DejaVuSans-35\"/>\n       <use x=\"63.623047\" xlink:href=\"#DejaVuSans-30\"/>\n      </g>\n     </g>\n    </g>\n    <g id=\"xtick_7\">\n     <g id=\"line2d_7\">\n      <g>\n       <use style=\"stroke:#000000;stroke-width:0.8;\" x=\"344.470941\" xlink:href=\"#m5afee87706\" y=\"224.64\"/>\n      </g>\n     </g>\n     <g id=\"text_7\">\n      <!-- 60 -->\n      <g transform=\"translate(338.108441 239.238437)scale(0.1 -0.1)\">\n       <defs>\n        <path d=\"M 2113 2584 \nQ 1688 2584 1439 2293 \nQ 1191 2003 1191 1497 \nQ 1191 994 1439 701 \nQ 1688 409 2113 409 \nQ 2538 409 2786 701 \nQ 3034 994 3034 1497 \nQ 3034 2003 2786 2293 \nQ 2538 2584 2113 2584 \nz\nM 3366 4563 \nL 3366 3988 \nQ 3128 4100 2886 4159 \nQ 2644 4219 2406 4219 \nQ 1781 4219 1451 3797 \nQ 1122 3375 1075 2522 \nQ 1259 2794 1537 2939 \nQ 1816 3084 2150 3084 \nQ 2853 3084 3261 2657 \nQ 3669 2231 3669 1497 \nQ 3669 778 3244 343 \nQ 2819 -91 2113 -91 \nQ 1303 -91 875 529 \nQ 447 1150 447 2328 \nQ 447 3434 972 4092 \nQ 1497 4750 2381 4750 \nQ 2619 4750 2861 4703 \nQ 3103 4656 3366 4563 \nz\n\" id=\"DejaVuSans-36\" transform=\"scale(0.015625)\"/>\n       </defs>\n       <use xlink:href=\"#DejaVuSans-36\"/>\n       <use x=\"63.623047\" xlink:href=\"#DejaVuSans-30\"/>\n      </g>\n     </g>\n    </g>\n   </g>\n   <g id=\"matplotlib.axis_2\">\n    <g id=\"ytick_1\">\n     <g id=\"line2d_8\">\n      <defs>\n       <path d=\"M 0 0 \nL -3.5 0 \n\" id=\"m682f135f6d\" style=\"stroke:#000000;stroke-width:0.8;\"/>\n      </defs>\n      <g>\n       <use style=\"stroke:#000000;stroke-width:0.8;\" x=\"26.925\" xlink:href=\"#m682f135f6d\" y=\"224.64\"/>\n      </g>\n     </g>\n     <g id=\"text_8\">\n      <!-- 0 -->\n      <g transform=\"translate(13.5625 228.439219)scale(0.1 -0.1)\">\n       <use xlink:href=\"#DejaVuSans-30\"/>\n      </g>\n     </g>\n    </g>\n    <g id=\"ytick_2\">\n     <g id=\"line2d_9\">\n      <g>\n       <use style=\"stroke:#000000;stroke-width:0.8;\" x=\"26.925\" xlink:href=\"#m682f135f6d\" y=\"198.814731\"/>\n      </g>\n     </g>\n     <g id=\"text_9\">\n      <!-- 2 -->\n      <g transform=\"translate(13.5625 202.61395)scale(0.1 -0.1)\">\n       <use xlink:href=\"#DejaVuSans-32\"/>\n      </g>\n     </g>\n    </g>\n    <g id=\"ytick_3\">\n     <g id=\"line2d_10\">\n      <g>\n       <use style=\"stroke:#000000;stroke-width:0.8;\" x=\"26.925\" xlink:href=\"#m682f135f6d\" y=\"172.989463\"/>\n      </g>\n     </g>\n     <g id=\"text_10\">\n      <!-- 4 -->\n      <g transform=\"translate(13.5625 176.788682)scale(0.1 -0.1)\">\n       <use xlink:href=\"#DejaVuSans-34\"/>\n      </g>\n     </g>\n    </g>\n    <g id=\"ytick_4\">\n     <g id=\"line2d_11\">\n      <g>\n       <use style=\"stroke:#000000;stroke-width:0.8;\" x=\"26.925\" xlink:href=\"#m682f135f6d\" y=\"147.164194\"/>\n      </g>\n     </g>\n     <g id=\"text_11\">\n      <!-- 6 -->\n      <g transform=\"translate(13.5625 150.963413)scale(0.1 -0.1)\">\n       <use xlink:href=\"#DejaVuSans-36\"/>\n      </g>\n     </g>\n    </g>\n    <g id=\"ytick_5\">\n     <g id=\"line2d_12\">\n      <g>\n       <use style=\"stroke:#000000;stroke-width:0.8;\" x=\"26.925\" xlink:href=\"#m682f135f6d\" y=\"121.338926\"/>\n      </g>\n     </g>\n     <g id=\"text_12\">\n      <!-- 8 -->\n      <g transform=\"translate(13.5625 125.138145)scale(0.1 -0.1)\">\n       <defs>\n        <path d=\"M 2034 2216 \nQ 1584 2216 1326 1975 \nQ 1069 1734 1069 1313 \nQ 1069 891 1326 650 \nQ 1584 409 2034 409 \nQ 2484 409 2743 651 \nQ 3003 894 3003 1313 \nQ 3003 1734 2745 1975 \nQ 2488 2216 2034 2216 \nz\nM 1403 2484 \nQ 997 2584 770 2862 \nQ 544 3141 544 3541 \nQ 544 4100 942 4425 \nQ 1341 4750 2034 4750 \nQ 2731 4750 3128 4425 \nQ 3525 4100 3525 3541 \nQ 3525 3141 3298 2862 \nQ 3072 2584 2669 2484 \nQ 3125 2378 3379 2068 \nQ 3634 1759 3634 1313 \nQ 3634 634 3220 271 \nQ 2806 -91 2034 -91 \nQ 1263 -91 848 271 \nQ 434 634 434 1313 \nQ 434 1759 690 2068 \nQ 947 2378 1403 2484 \nz\nM 1172 3481 \nQ 1172 3119 1398 2916 \nQ 1625 2713 2034 2713 \nQ 2441 2713 2670 2916 \nQ 2900 3119 2900 3481 \nQ 2900 3844 2670 4047 \nQ 2441 4250 2034 4250 \nQ 1625 4250 1398 4047 \nQ 1172 3844 1172 3481 \nz\n\" id=\"DejaVuSans-38\" transform=\"scale(0.015625)\"/>\n       </defs>\n       <use xlink:href=\"#DejaVuSans-38\"/>\n      </g>\n     </g>\n    </g>\n    <g id=\"ytick_6\">\n     <g id=\"line2d_13\">\n      <g>\n       <use style=\"stroke:#000000;stroke-width:0.8;\" x=\"26.925\" xlink:href=\"#m682f135f6d\" y=\"95.513657\"/>\n      </g>\n     </g>\n     <g id=\"text_13\">\n      <!-- 10 -->\n      <g transform=\"translate(7.2 99.312876)scale(0.1 -0.1)\">\n       <use xlink:href=\"#DejaVuSans-31\"/>\n       <use x=\"63.623047\" xlink:href=\"#DejaVuSans-30\"/>\n      </g>\n     </g>\n    </g>\n    <g id=\"ytick_7\">\n     <g id=\"line2d_14\">\n      <g>\n       <use style=\"stroke:#000000;stroke-width:0.8;\" x=\"26.925\" xlink:href=\"#m682f135f6d\" y=\"69.688389\"/>\n      </g>\n     </g>\n     <g id=\"text_14\">\n      <!-- 12 -->\n      <g transform=\"translate(7.2 73.487608)scale(0.1 -0.1)\">\n       <use xlink:href=\"#DejaVuSans-31\"/>\n       <use x=\"63.623047\" xlink:href=\"#DejaVuSans-32\"/>\n      </g>\n     </g>\n    </g>\n    <g id=\"ytick_8\">\n     <g id=\"line2d_15\">\n      <g>\n       <use style=\"stroke:#000000;stroke-width:0.8;\" x=\"26.925\" xlink:href=\"#m682f135f6d\" y=\"43.86312\"/>\n      </g>\n     </g>\n     <g id=\"text_15\">\n      <!-- 14 -->\n      <g transform=\"translate(7.2 47.662339)scale(0.1 -0.1)\">\n       <use xlink:href=\"#DejaVuSans-31\"/>\n       <use x=\"63.623047\" xlink:href=\"#DejaVuSans-34\"/>\n      </g>\n     </g>\n    </g>\n    <g id=\"ytick_9\">\n     <g id=\"line2d_16\">\n      <g>\n       <use style=\"stroke:#000000;stroke-width:0.8;\" x=\"26.925\" xlink:href=\"#m682f135f6d\" y=\"18.037852\"/>\n      </g>\n     </g>\n     <g id=\"text_16\">\n      <!-- 16 -->\n      <g transform=\"translate(7.2 21.83707)scale(0.1 -0.1)\">\n       <use xlink:href=\"#DejaVuSans-31\"/>\n       <use x=\"63.623047\" xlink:href=\"#DejaVuSans-36\"/>\n      </g>\n     </g>\n    </g>\n   </g>\n   <g id=\"patch_63\">\n    <path d=\"M 26.925 224.64 \nL 26.925 7.2 \n\" style=\"fill:none;stroke:#000000;stroke-linecap:square;stroke-linejoin:miter;stroke-width:0.8;\"/>\n   </g>\n   <g id=\"patch_64\">\n    <path d=\"M 361.725 224.64 \nL 361.725 7.2 \n\" style=\"fill:none;stroke:#000000;stroke-linecap:square;stroke-linejoin:miter;stroke-width:0.8;\"/>\n   </g>\n   <g id=\"patch_65\">\n    <path d=\"M 26.925 224.64 \nL 361.725 224.64 \n\" style=\"fill:none;stroke:#000000;stroke-linecap:square;stroke-linejoin:miter;stroke-width:0.8;\"/>\n   </g>\n   <g id=\"patch_66\">\n    <path d=\"M 26.925 7.2 \nL 361.725 7.2 \n\" style=\"fill:none;stroke:#000000;stroke-linecap:square;stroke-linejoin:miter;stroke-width:0.8;\"/>\n   </g>\n  </g>\n </g>\n <defs>\n  <clipPath id=\"p07883a8157\">\n   <rect height=\"217.44\" width=\"334.8\" x=\"26.925\" y=\"7.2\"/>\n  </clipPath>\n </defs>\n</svg>\n",
      "image/png": "[encoded data removed]"
     },
     "metadata": {
      "needs_background": "light"
     }
    }
   ],
   "metadata": {}
  },
  {
   "cell_type": "code",
   "execution_count": null,
   "source": [
    "principal_components = Vt[:X]\n",
    "eigenvalues = S[:X]"
   ],
   "outputs": [],
   "metadata": {}
  },
  {
   "cell_type": "code",
   "execution_count": null,
   "source": [
    "# Constructing the X eigenportfolios\n",
    "\n",
    "Q = np.ones([X, N])\n",
    "\n",
    "for j in range(X):\n",
    "    Q[j] = principal_components[j] / sigma_bar\n"
   ],
   "outputs": [],
   "metadata": {}
  },
  {
   "cell_type": "code",
   "execution_count": null,
   "source": [
    "# Calculating the returns for the eigenportfolios\n",
    "\n",
    "F = np.ones([X, M]) # first dim is which eigenportfolio, second dim is time\n",
    "\n",
    "R_transpose = np.transpose(R)\n",
    "for j in range(X):\n",
    "    for k in range(M):\n",
    "        F[j][k] = np.dot(Q[j], R_transpose[k])\n"
   ],
   "outputs": [],
   "metadata": {}
  },
  {
   "cell_type": "code",
   "execution_count": null,
   "source": [
    "#plt.plot(F[0])"
   ],
   "outputs": [],
   "metadata": {}
  },
  {
   "cell_type": "code",
   "execution_count": null,
   "source": [
    "#combined_portfolio = np.sum(Q, axis=0)\n",
    "#combined_portfolio_returns = np.sum(F, axis=0)"
   ],
   "outputs": [],
   "metadata": {}
  },
  {
   "cell_type": "code",
   "execution_count": null,
   "source": [
    "#plt.plot(combined_portfolio_returns)"
   ],
   "outputs": [],
   "metadata": {}
  },
  {
   "cell_type": "code",
   "execution_count": 31,
   "source": [
    "#summary = pd.DataFrame(data=np.transpose([symbols, Q[0]]), columns=['Symbol', 'weight in eigenport. #0'])\n",
    "#summary.head()\n",
    "\n",
    "# I think I interpreted the output of the SVD wrong, oops! "
   ],
   "outputs": [],
   "metadata": {}
  },
  {
   "cell_type": "markdown",
   "source": [
    "## Part Three: Using the Eigenportfolios to Model Coin Prices"
   ],
   "metadata": {}
  },
  {
   "cell_type": "code",
   "execution_count": null,
   "source": [
    "'''\n",
    "\n",
    "the return of the ith coin at time t = (a_i * dt) + (sum over j of b_ij * return of jth eigenportfolio at time t) + dX_i(t)\n",
    "\n",
    "the first term is a drift term that we will ignore for now\n",
    "\n",
    "the factor loadings b_ij = cov(return of coin i, return of jth eigenportfolio) / var(return of jth eigenportfolio)\n",
    "\n",
    "dX_i(t) is the change in some mean reverting process\n",
    "\n",
    "\n",
    "1. constuct the beta matrix (ith coin, jth risk factor)\n",
    "2. calculate the matrix of residuals X_i,t (ith coin at time t) \n",
    "3. estimate params of the OU model for X_i(t)\n",
    "    - calculate the cumulative residuals Z_i,t\n",
    "    - fit an AR(1) model: Z_i,t+1 = a + b*Z_i,t + zeta(t+1) ; where zeta_k are the regression residuals\n",
    "    - m := a\\hat / (1 - b\\hat)\n",
    "    - sigma_eq := sqrt{var({zeta}) / (1 - b\\hat^2)}\n",
    "    - interlude: use m, sigma_eq to calculate kappa, sigma\n",
    "                 use those to explicitly model the returns of each coin\n",
    "                 investigate these to evaulate goodness of fit\n",
    "                 this may be redundant / the best way would be to look at stats from the output of the regression\n",
    "                 nonetheless, want to check that the model looks good before generating signals from it\n",
    "    - the s-score is -m/sigma_eq\n",
    "4. calculate s-scores for each moment in time (the regression in step 3 needs to be redone for each time step, looking back the same fixed window length)\n",
    "    ^ only need to do this when backtesting, otherwise we calc the vector of s-scores for the current time and use that to generate signals\n",
    "\n",
    "'''"
   ],
   "outputs": [
    {
     "output_type": "execute_result",
     "data": {
      "text/plain": [
       "'\\n\\nthe return of the ith coin at time t = (a_i * dt) + (sum over j of b_ij * return of jth eigenportfolio at time t) + dX_i(t)\\n\\nthe first term is a drift term that we will ignore for now\\n\\nthe factor loadings b_ij = cov(return of coin i, return of jth eigenportfolio) / var(return of jth eigenportfolio)\\n\\ndX_i(t) is the change in some mean reverting process\\n\\n\\n1. constuct the beta matrix (ith coin, jth risk factor)\\n2. calculate the matrix of residuals X_i,t (ith coin at time t) \\n3. estimate params of the OU model for X_i(t)\\n    - calculate the cumulative residuals Z_i,t\\n    - fit an AR(1) model: Z_i,t+1 = a + b*Z_i,t + zeta(t+1) ; where zeta_k are the regression residuals\\n    - m := a\\\\hat / (1 - b\\\\hat)\\n    - sigma_eq := sqrt{var({zeta}) / (1 - b\\\\hat^2)}\\n    - interlude: use m, sigma_eq to calculate kappa, sigma\\n                 use those to explicitly model the returns of each coin\\n                 investigate these to evaulate goodness of fit\\n                 this may be redundant / the best way would be to look at stats from the output of the regression\\n                 nonetheless, want to check that the model looks good before generating signals from it\\n    - the s-score is -m/sigma_eq\\n4. calculate s-scores for each moment in time (the regression in step 3 needs to be redone for each time step, looking back the same fixed window length)\\n    ^ only need to do this when backtesting, otherwise we calc the vector of s-scores for the current time and use that to generate signals\\n\\n'"
      ]
     },
     "metadata": {},
     "execution_count": 27
    }
   ],
   "metadata": {}
  },
  {
   "cell_type": "code",
   "execution_count": null,
   "source": [
    "Beta = np.ones([N, X])\n",
    "\n",
    "for i in range(N):\n",
    "    for j in range(X):\n",
    "        coin_returns = R[i]\n",
    "        eigenport_returns = F[j]\n",
    "        cov_matrix = np.cov([coin_returns, eigenport_returns])\n",
    "        Beta[i][j] = cov_matrix[0][1] / cov_matrix[1][1]\n"
   ],
   "outputs": [],
   "metadata": {}
  },
  {
   "cell_type": "code",
   "execution_count": null,
   "source": [
    "# An (N, X) matrix times an (X, M) matix yields an N by M matrix\n",
    "Expected_Returns = Beta @ F\n",
    "Residuals = R - Expected_Returns # N by M <-> (coin, t)\n",
    "Cumulative_Residuals = np.cumsum(Residuals, axis=1)"
   ],
   "outputs": [],
   "metadata": {}
  },
  {
   "cell_type": "code",
   "execution_count": null,
   "source": [
    "# Residuals 1st dimension is which coin, 2nd dim is time, contains the regression residuals"
   ],
   "outputs": [],
   "metadata": {}
  },
  {
   "cell_type": "code",
   "execution_count": null,
   "source": [
    "from statsmodels.tsa.ar_model import AutoReg\n",
    "from statsmodels.tsa.stattools import adfuller\n",
    "\n",
    "# want to fit an AR(1) model for each coin and compute the s score for each\n",
    "# should check each for stationarity beforehand\n",
    "# write a fn to compute the s score for a time series, have it return 0 if the data is not stationary"
   ],
   "outputs": [],
   "metadata": {}
  },
  {
   "cell_type": "code",
   "execution_count": null,
   "source": [
    "alpha = 0.05\n",
    "\n",
    "#adfuller(Residuals[0])[1] < alpha"
   ],
   "outputs": [],
   "metadata": {}
  },
  {
   "cell_type": "code",
   "execution_count": null,
   "source": [
    "stationary_flags = [adfuller(Cumulative_Residuals[i])[1] < alpha for i in range(N)]"
   ],
   "outputs": [],
   "metadata": {}
  },
  {
   "cell_type": "code",
   "execution_count": null,
   "source": [
    "# figuring out how to get what we need from the regression results for one series before doing all of them\n",
    "\n",
    "ar_model_results = AutoReg(Cumulative_Residuals[0], lags=1).fit()"
   ],
   "outputs": [
    {
     "output_type": "stream",
     "name": "stderr",
     "text": [
      "/usr/local/lib/python3.9/site-packages/statsmodels/tsa/ar_model.py:248: FutureWarning: The parameter names will change after 0.12 is released. Set old_names to False to use the new names now. Set old_names to True to use the old names. \n",
      "  warnings.warn(\n"
     ]
    }
   ],
   "metadata": {}
  },
  {
   "cell_type": "code",
   "execution_count": null,
   "source": [
    "#ar_model_results.summary()"
   ],
   "outputs": [],
   "metadata": {}
  },
  {
   "cell_type": "code",
   "execution_count": null,
   "source": [
    "a_hat = ar_model_results.params[0]\n",
    "b_hat = ar_model_results.params[1]\n",
    "ar_residuals = ar_model_results.resid"
   ],
   "outputs": [],
   "metadata": {}
  },
  {
   "cell_type": "code",
   "execution_count": null,
   "source": [
    "# inferring the parameters of the Ornstein-Uhlenbek process\n",
    "\n",
    "m_OU = a_hat / (1 - b_hat)\n",
    "sigma_OU = np.sqrt(np.var(ar_residuals) / (1 - (b_hat**2)))\n",
    "\n",
    "S_score = -1 * m_OU / sigma_OU"
   ],
   "outputs": [],
   "metadata": {}
  },
  {
   "cell_type": "code",
   "execution_count": null,
   "source": [],
   "outputs": [],
   "metadata": {}
  },
  {
   "cell_type": "code",
   "execution_count": null,
   "source": [
    "def S_scores_from_cumresiduals(Cumulative_Residuals, alpha=0.05):\n",
    "    N = len(Cumulative_Residuals)\n",
    "    S_scores = np.ones(N)\n",
    "    for i in range(N):\n",
    "        if adfuller(Cumulative_Residuals[i])[1] < alpha:\n",
    "            ar_model_results = AutoReg(Cumulative_Residuals[i], lags=1).fit()\n",
    "            a_hat = ar_model_results.params[0]\n",
    "            b_hat = ar_model_results.params[1]\n",
    "            ar_residuals = ar_model_results.resid\n",
    "            m_OU = a_hat / (1 - b_hat)\n",
    "            sigma_OU = np.sqrt(np.var(ar_residuals) / (1 - (b_hat**2)))\n",
    "            S = -1 * m_OU / sigma_OU\n",
    "            S_scores[i] = S\n",
    "        else:\n",
    "            S_scores[i] = 0\n",
    "\n",
    "    return S_scores"
   ],
   "outputs": [],
   "metadata": {}
  },
  {
   "cell_type": "code",
   "execution_count": null,
   "source": [
    "S_scores = S_scores_from_cumresiduals(Cumulative_Residuals)"
   ],
   "outputs": [
    {
     "output_type": "stream",
     "name": "stderr",
     "text": [
      "/usr/local/lib/python3.9/site-packages/statsmodels/tsa/ar_model.py:248: FutureWarning: The parameter names will change after 0.12 is released. Set old_names to False to use the new names now. Set old_names to True to use the old names. \n",
      "  warnings.warn(\n",
      "/usr/local/lib/python3.9/site-packages/statsmodels/tsa/ar_model.py:248: FutureWarning: The parameter names will change after 0.12 is released. Set old_names to False to use the new names now. Set old_names to True to use the old names. \n",
      "  warnings.warn(\n",
      "/usr/local/lib/python3.9/site-packages/statsmodels/tsa/ar_model.py:248: FutureWarning: The parameter names will change after 0.12 is released. Set old_names to False to use the new names now. Set old_names to True to use the old names. \n",
      "  warnings.warn(\n"
     ]
    }
   ],
   "metadata": {}
  },
  {
   "cell_type": "code",
   "execution_count": null,
   "source": [
    "S_score_chart = pd.DataFrame(data=np.transpose([symbols, S_scores]), columns=[\"Symbol\", \"S_Score\"])\n",
    "S_score_chart.head()"
   ],
   "outputs": [
    {
     "output_type": "execute_result",
     "data": {
      "text/plain": [
       "    Symbol   S_Score\n",
       "0    SCBTC  5.011794\n",
       "1   CKBBTC       0.0\n",
       "2  REEFBTC       0.0\n",
       "3   PHBBTC       0.0\n",
       "4   XVGBTC       0.0"
      ],
      "text/html": [
       "<div>\n",
       "<style scoped>\n",
       "    .dataframe tbody tr th:only-of-type {\n",
       "        vertical-align: middle;\n",
       "    }\n",
       "\n",
       "    .dataframe tbody tr th {\n",
       "        vertical-align: top;\n",
       "    }\n",
       "\n",
       "    .dataframe thead th {\n",
       "        text-align: right;\n",
       "    }\n",
       "</style>\n",
       "<table border=\"1\" class=\"dataframe\">\n",
       "  <thead>\n",
       "    <tr style=\"text-align: right;\">\n",
       "      <th></th>\n",
       "      <th>Symbol</th>\n",
       "      <th>S_Score</th>\n",
       "    </tr>\n",
       "  </thead>\n",
       "  <tbody>\n",
       "    <tr>\n",
       "      <th>0</th>\n",
       "      <td>SCBTC</td>\n",
       "      <td>5.011794</td>\n",
       "    </tr>\n",
       "    <tr>\n",
       "      <th>1</th>\n",
       "      <td>CKBBTC</td>\n",
       "      <td>0.0</td>\n",
       "    </tr>\n",
       "    <tr>\n",
       "      <th>2</th>\n",
       "      <td>REEFBTC</td>\n",
       "      <td>0.0</td>\n",
       "    </tr>\n",
       "    <tr>\n",
       "      <th>3</th>\n",
       "      <td>PHBBTC</td>\n",
       "      <td>0.0</td>\n",
       "    </tr>\n",
       "    <tr>\n",
       "      <th>4</th>\n",
       "      <td>XVGBTC</td>\n",
       "      <td>0.0</td>\n",
       "    </tr>\n",
       "  </tbody>\n",
       "</table>\n",
       "</div>"
      ]
     },
     "metadata": {},
     "execution_count": 73
    }
   ],
   "metadata": {}
  },
  {
   "cell_type": "markdown",
   "source": [
    "## Part Four: Signal Generation"
   ],
   "metadata": {}
  },
  {
   "cell_type": "code",
   "execution_count": null,
   "source": [
    "'''\n",
    "\n",
    "use the s-scores to generate buy/sell signals (w quantities) for each coin, at each moment in time\n",
    "\n",
    "'''"
   ],
   "outputs": [],
   "metadata": {}
  },
  {
   "cell_type": "code",
   "execution_count": null,
   "source": [
    "def decision_rule(s):\n",
    "    if s < -3:\n",
    "        return \"Buy\"\n",
    "    elif s > 3:\n",
    "        return \"Sell\"\n",
    "    else:\n",
    "        return \"None\""
   ],
   "outputs": [],
   "metadata": {}
  },
  {
   "cell_type": "code",
   "execution_count": null,
   "source": [
    "S_score_chart['Signal'] = [decision_rule(s) for s in S_score_chart[\"S_Score\"]]"
   ],
   "outputs": [],
   "metadata": {}
  },
  {
   "cell_type": "code",
   "execution_count": null,
   "source": [
    "S_score_chart.head()"
   ],
   "outputs": [
    {
     "output_type": "execute_result",
     "data": {
      "text/plain": [
       "    Symbol   S_Score Signal\n",
       "0    SCBTC  5.011794   Sell\n",
       "1   CKBBTC       0.0   None\n",
       "2  REEFBTC       0.0   None\n",
       "3   PHBBTC       0.0   None\n",
       "4   XVGBTC       0.0   None"
      ],
      "text/html": [
       "<div>\n",
       "<style scoped>\n",
       "    .dataframe tbody tr th:only-of-type {\n",
       "        vertical-align: middle;\n",
       "    }\n",
       "\n",
       "    .dataframe tbody tr th {\n",
       "        vertical-align: top;\n",
       "    }\n",
       "\n",
       "    .dataframe thead th {\n",
       "        text-align: right;\n",
       "    }\n",
       "</style>\n",
       "<table border=\"1\" class=\"dataframe\">\n",
       "  <thead>\n",
       "    <tr style=\"text-align: right;\">\n",
       "      <th></th>\n",
       "      <th>Symbol</th>\n",
       "      <th>S_Score</th>\n",
       "      <th>Signal</th>\n",
       "    </tr>\n",
       "  </thead>\n",
       "  <tbody>\n",
       "    <tr>\n",
       "      <th>0</th>\n",
       "      <td>SCBTC</td>\n",
       "      <td>5.011794</td>\n",
       "      <td>Sell</td>\n",
       "    </tr>\n",
       "    <tr>\n",
       "      <th>1</th>\n",
       "      <td>CKBBTC</td>\n",
       "      <td>0.0</td>\n",
       "      <td>None</td>\n",
       "    </tr>\n",
       "    <tr>\n",
       "      <th>2</th>\n",
       "      <td>REEFBTC</td>\n",
       "      <td>0.0</td>\n",
       "      <td>None</td>\n",
       "    </tr>\n",
       "    <tr>\n",
       "      <th>3</th>\n",
       "      <td>PHBBTC</td>\n",
       "      <td>0.0</td>\n",
       "      <td>None</td>\n",
       "    </tr>\n",
       "    <tr>\n",
       "      <th>4</th>\n",
       "      <td>XVGBTC</td>\n",
       "      <td>0.0</td>\n",
       "      <td>None</td>\n",
       "    </tr>\n",
       "  </tbody>\n",
       "</table>\n",
       "</div>"
      ]
     },
     "metadata": {},
     "execution_count": 76
    }
   ],
   "metadata": {}
  },
  {
   "cell_type": "markdown",
   "source": [
    "## Part Five: Backtesting and Hyperparameter Optimization"
   ],
   "metadata": {}
  },
  {
   "cell_type": "code",
   "execution_count": null,
   "source": [
    "'''\n",
    "\n",
    "1. use the equation from section 5 of the paper to calculate the returns from the strategy over the back history\n",
    "2. experiment with changing N, M, X, the signficance level defined in part four, and any params we define here (slippage)\n",
    "    ^wrap some things in fn's to make it easier, but pls pls pls just do this manually without over-complicating things\n",
    "\n",
    "NB: The most important/ first thing to experiment with is the time interval / trading frequency we use\n",
    "\n",
    "'''"
   ],
   "outputs": [],
   "metadata": {}
  },
  {
   "cell_type": "markdown",
   "source": [
    "First, need to systematize the code above.\n",
    "1. Write a method to get data at a specified time interval, start and end, for a fixed list of symbols\n",
    "    a. Maybe grab a huge chunk, and have a different function split it up for back testing\n",
    "2. Put all the PCA analysis in a function\n",
    "3. Add the stages from PCA-risk-factor residuals to trading signals as another layer of functions\n",
    "4. Then start writing the backtesting code"
   ],
   "metadata": {}
  },
  {
   "cell_type": "code",
   "execution_count": null,
   "source": [],
   "outputs": [],
   "metadata": {}
  },
  {
   "cell_type": "code",
   "execution_count": null,
   "source": [],
   "outputs": [],
   "metadata": {}
  },
  {
   "cell_type": "markdown",
   "source": [
    "## Part Six: Trading"
   ],
   "metadata": {}
  },
  {
   "cell_type": "code",
   "execution_count": null,
   "source": [
    "'''\n",
    "\n",
    "0. write functions to get account status, unwind old positions, other safety checks\n",
    "0.5. decide how much risk we're comfortable taking on / what the trade size should be\n",
    "1. write some functions to bundle daily/hourly/minute actions together\n",
    "    ^the highest frequency fn will take the signals and print the actual api call we'd use to make the trades (and log them!)\n",
    "2. export\n",
    "    - move everything to a .py file\n",
    "    - write a flask app that will import the fn's described in step 1 above and call them on a schedule\n",
    "    - make the flask page itself show the performance history and account summary statisics\n",
    "\n",
    "'''"
   ],
   "outputs": [],
   "metadata": {}
  },
  {
   "cell_type": "code",
   "execution_count": null,
   "source": [],
   "outputs": [],
   "metadata": {}
  },
  {
   "cell_type": "code",
   "execution_count": null,
   "source": [],
   "outputs": [],
   "metadata": {}
  }
 ],
 "metadata": {
  "kernelspec": {
   "name": "python3",
   "display_name": "Python 3.9.6 64-bit"
  },
  "language_info": {
   "codemirror_mode": {
    "name": "ipython",
    "version": 3
   },
   "file_extension": ".py",
   "mimetype": "text/x-python",
   "name": "python",
   "nbconvert_exporter": "python",
   "pygments_lexer": "ipython3",
   "version": "3.9.6"
  },
  "interpreter": {
   "hash": "aee8b7b246df8f9039afb4144a1f6fd8d2ca17a180786b69acc140d282b71a49"
  }
 },
 "nbformat": 4,
 "nbformat_minor": 5
}